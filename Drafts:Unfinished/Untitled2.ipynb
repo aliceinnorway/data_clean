{
 "cells": [
  {
   "cell_type": "code",
   "execution_count": null,
   "metadata": {},
   "outputs": [],
   "source": [
    "import pandas as pd"
   ]
  },
  {
   "cell_type": "code",
   "execution_count": null,
   "metadata": {},
   "outputs": [],
   "source": [
    "import twint\n",
    "import datetime\n",
    "\n",
    "import nest_asyncio\n",
    "nest_asyncio.apply()\n",
    "Tweets_df = 'empty'\n",
    "\n",
    "since = datetime.datetime(2020, 8, 25)\n",
    "until = datetime.datetime(2021, 11, 26)\n",
    "\n",
    "# Set up Twint Config.\n",
    "c = twint.Config()\n",
    "c.Search = \"COP26\" and \"Norway\"\n",
    "c.Since = str(since)\n",
    "c.Until = str(until)\n",
    "c.Pandas = True\n",
    "\n",
    "twint.run.Search(c)\n",
    "\n",
    "Tweets_df = twint.storage.panda.Tweets_df"
   ]
  },
  {
   "cell_type": "code",
   "execution_count": null,
   "metadata": {},
   "outputs": [],
   "source": [
    "print(Tweets_df)"
   ]
  },
  {
   "cell_type": "code",
   "execution_count": null,
   "metadata": {},
   "outputs": [],
   "source": []
  }
 ],
 "metadata": {
  "kernelspec": {
   "display_name": "Python 3",
   "language": "python",
   "name": "python3"
  },
  "language_info": {
   "codemirror_mode": {
    "name": "ipython",
    "version": 3
   },
   "file_extension": ".py",
   "mimetype": "text/x-python",
   "name": "python",
   "nbconvert_exporter": "python",
   "pygments_lexer": "ipython3",
   "version": "3.8.3"
  }
 },
 "nbformat": 4,
 "nbformat_minor": 4
}
